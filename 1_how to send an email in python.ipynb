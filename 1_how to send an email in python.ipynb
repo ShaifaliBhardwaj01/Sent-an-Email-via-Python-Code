{
 "cells": [
  {
   "cell_type": "code",
   "execution_count": 62,
   "id": "8a23a17d-6813-4736-a75c-40cc15e57ad7",
   "metadata": {},
   "outputs": [],
   "source": [
    "from email.mime.text import MIMEText\n",
    "from email.mime.image import MIMEImage\n",
    "from email.mime.application import MIMEApplication\n",
    "from email.mime.multipart import MIMEMultipart\n",
    "import smtplib\n",
    "import os\n",
    "from email.mime.base import MIMEBase\n",
    "from email import encoders"
   ]
  },
  {
   "cell_type": "markdown",
   "id": "426926a9-bb37-4dc6-ad83-3456810a5dee",
   "metadata": {},
   "source": [
    "# Final Combined Code"
   ]
  },
  {
   "cell_type": "code",
   "execution_count": 76,
   "id": "edbad020-7b64-49ef-88c4-5eb2f7201aba",
   "metadata": {},
   "outputs": [],
   "source": [
    "# mail server parameters\n",
    "smtpHost='smtp.gmail.com'\n",
    "smtpPort=587\n",
    "mailUserName='pythonemailtestproject@gmail.com'\n",
    "mailUserPwd='zxiwzpxfxzdwlgxq'\n",
    "fromEmail='pythonemailtestproject@gmail.com'\n",
    "# mail body ,rcpnts , attachments,etc\n",
    "mailSubject='DataScience Cookbook Data'\n",
    "mailContentHtml=\"Hello,Hope you are doin well ! <br/> This is a <b> Book </b> related to Data Science \\n  written by <b> Shaifali Bhardwaj Python </b> \"\n",
    "recepientMailList=[\"sbshaifali96@gmail.com\", \"bhardwajshaifali87@gmail.com\"]\n",
    "attachmentsFilePathList=[\"Practical_Statistics_for_Data_Science__1663047225.pdf\",\"Screenshot (10820).png\"]\n",
    "\n",
    "def sendEMail(smtpHost,smtpPort,mailUserName,mailUserPwd,fromEmail,mailSubject,mailContentHtml,recepientMailList,attachmentsFilePathList):\n",
    "    #create msg object\n",
    "    msg = MIMEMultipart()\n",
    "    msg['From'] = fromEmail\n",
    "    msg['To'] = ','.join(recepientMailList)\n",
    "    msg['Subject'] = mailSubject\n",
    "    msg.attach(MIMEText(mailContentHtml,'html'))\n",
    "    \n",
    "    #create file attachments\n",
    "    for a_Path in attachmentsFilePathList:\n",
    "        #check if file exists\n",
    "        part=MIMEBase('application',\"octet-stream\")\n",
    "        part.set_payload(open(a_Path,\"rb\").read())\n",
    "        encoders.encode_base64(part)\n",
    "        part.add_header('Content-Disposition','attachment; filename=\"{0}\"'.format(os.path.basename(a_Path)))\n",
    "        msg.attach(part)\n",
    "    #send  message object as a mail using smtplib\n",
    "    s=smtplib.SMTP(smtpHost,smtpPort)\n",
    "    s.starttls()\n",
    "    s.login(mailUserName,mailUserPwd)\n",
    "    msgText=msg.as_string()\n",
    "    sendErrs=s.sendmail(fromEmail,recepientMailList,msgText)\n",
    "    s.quit()\n",
    "    \n",
    "    #check if errors occured & handle them accgly\n",
    "    if not len(sendErrs.keys())==0:\n",
    "        raise Exception(\"Erors occured while sending an Email\",sendErrs)\n",
    "\n"
   ]
  },
  {
   "cell_type": "code",
   "execution_count": 77,
   "id": "02c5e747-f7c5-4458-ac7b-6ef73241b306",
   "metadata": {},
   "outputs": [
    {
     "name": "stdout",
     "output_type": "stream",
     "text": [
      "execution complete\n"
     ]
    }
   ],
   "source": [
    "sendEMail(smtpHost,smtpPort,mailUserName,mailUserPwd,fromEmail,mailSubject,mailContentHtml,recepientMailList,attachmentsFilePathList)\n",
    "print('execution complete')"
   ]
  },
  {
   "cell_type": "code",
   "execution_count": 73,
   "id": "34463b2e-7a76-4c92-9aa3-a2a82eaa1620",
   "metadata": {},
   "outputs": [],
   "source": [
    "# mail server parameters\n",
    "smtpHost='smtp.gmail.com'\n",
    "smtpPort=587\n",
    "mailUserName='pythonemailtestproject@gmail.com'\n",
    "mailUserPwd='zxiwzpxfxzdwlgxq'\n",
    "fromEmail='pythonemailtestproject@gmail.com'\n",
    "# mail body ,rcpnts , attachments,etc\n",
    "mailSubject='DataScience Cookbook Data'\n",
    "mailContentHtml=\"Hello,Hope you are doin well ! <br/> This is a <b> Book </b> related to Data Science Part 2 - Email Updated \\n  written by <b> CookBook Python </b> \"\n",
    "recepientMailList=[\"sbshaifali96@gmail.com\", \"bhardwajshaifali87@gmail.com\"]\n",
    "attachmentsFilePathList=[\"Practical_Statistics_for_Data_Science__1663047225.pdf\",\"Screenshot (10820).png\"]\n",
    "\n",
    "def sendEMail(smtpHost,smtpPort,mailUserName,mailUserPwd,fromEmail,mailSubject,mailContentHtml,recepientMailList,attachmentsFilePathList):\n",
    "    #create msg object\n",
    "    msg = MIMEMultipart()\n",
    "    msg['From'] = fromEmail\n",
    "    msg['To'] = ','.join(recepientMailList)\n",
    "    msg['Subject'] = mailSubject\n",
    "    msg.attach(MIMEText(mailContentHtml,'html'))\n",
    "    \n",
    "#     #create file attachments\n",
    "#     for a_Path in attachmentsFilePathList:\n",
    "#         #check if file exists\n",
    "#         part=MIMEBase('application',\"octet-stream\")\n",
    "#         part.set_payload(open(a_Path,\"rb\").read())\n",
    "#         encoders.encode_base64(part)\n",
    "#         part.add_header('Content-Disposition','attachment; filename=\"{0}\"'.format(os.path.basename(a_Path)))\n",
    "#         msg.attach(part)\n",
    "    for one_attachment in attachmentsFilePathList:     \n",
    "        try:\n",
    "#         one_attachment\n",
    "            with open(one_attachment, 'rb') as f:\n",
    "                file = MIMEApplication(\n",
    "                    f.read(), name=os.path.basename(one_attachment)\n",
    "                )\n",
    "                file['Content-Disposition'] = f'attachment; \\\n",
    "                filename=\"{os.path.basename(one_attachment)}\"'\n",
    "                msg.attach(file)\n",
    "        except Exception as e:\n",
    "            print('error- ',str(e))\n",
    "\n",
    "#     #send  message object as a mail using smtplib\n",
    "#     s=smtplib.SMTP(smtpHost,smtpPort)\n",
    "#     s.starttls()\n",
    "#     s.login(mailUserName,mailUserPwd)\n",
    "#     msgText=msg.as_string()\n",
    "#     sendErrs=s.sendmail(fromEmail,recepientMailList,msgText)\n",
    "#     s.quit()\n",
    "\n",
    "    try: \n",
    "        smtp = smtplib.SMTP(smtpHost, smtpPort)\n",
    "        smtp.ehlo()\n",
    "        smtp.starttls()\n",
    "        smtp.login(mailUserName,mailUserPwd)\n",
    "        # pythonemailtestproject@gmail.com\n",
    "    except Exception as e:\n",
    "        print('error',str(e))\n",
    "    print('connected now!')\n",
    "\n",
    "#     to = [\"sbshaifali96@gmail.com\", \"bhardwajshaifali87@gmail.com\"]\n",
    "    smtp.sendmail(from_addr=fromEmail,to_addrs=recepientMailList, msg=msg.as_string())\n",
    "    smtp.quit()\n",
    "\n",
    "#     #check if errors occured & handle them accgly\n",
    "#     if not len(sendErrs.keys())==0:\n",
    "#         raise Exception(\"Erors occured while sending an Email\",sendErrs)\n",
    "\n"
   ]
  },
  {
   "cell_type": "code",
   "execution_count": 75,
   "id": "005db7fb-60f6-4a27-b643-7adf4b1aa197",
   "metadata": {},
   "outputs": [
    {
     "name": "stdout",
     "output_type": "stream",
     "text": [
      "connected now!\n",
      "execution complete\n"
     ]
    }
   ],
   "source": [
    "sendEMail(smtpHost,smtpPort,mailUserName,mailUserPwd,fromEmail,mailSubject,mailContentHtml,recepientMailList,attachmentsFilePathList)\n",
    "print('execution complete')"
   ]
  },
  {
   "cell_type": "code",
   "execution_count": null,
   "id": "91cbf6b7-2085-4701-9daa-f644737a597c",
   "metadata": {},
   "outputs": [],
   "source": []
  },
  {
   "cell_type": "code",
   "execution_count": null,
   "id": "0e08d146-5182-4eee-b743-23b7e635fb05",
   "metadata": {},
   "outputs": [],
   "source": []
  },
  {
   "cell_type": "code",
   "execution_count": 33,
   "id": "51266821-fc21-4860-b5b6-5d191ca9efd5",
   "metadata": {},
   "outputs": [],
   "source": [
    "ownid='pythonemailtestproject@gmail.com'\n",
    "password='zxiwzpxfxzdwlgxq'"
   ]
  },
  {
   "cell_type": "markdown",
   "id": "cd046ea8-d3e6-4c32-8225-329bbd411bae",
   "metadata": {},
   "source": [
    "# code1 - for text mail"
   ]
  },
  {
   "cell_type": "code",
   "execution_count": null,
   "id": "e1f6aba8-41ee-4599-805c-cbf73e4c0266",
   "metadata": {},
   "outputs": [],
   "source": [
    "#     text \n",
    "subject='Python mail test Code - Email2'\n",
    "text='email text box - hey everyone! supernatural fans'\n",
    "msg = MIMEMultipart()\n",
    "msg['Subject'] = subject\n",
    "msg.attach(MIMEText(text))"
   ]
  },
  {
   "cell_type": "code",
   "execution_count": 41,
   "id": "36882498-9e4e-4e0c-8dc4-d395e8e4ddce",
   "metadata": {},
   "outputs": [],
   "source": [
    "try: \n",
    "    smtp = smtplib.SMTP('smtp.gmail.com', 587)\n",
    "    smtp.ehlo()\n",
    "    smtp.starttls()\n",
    "    smtp.login('pythonemailtestproject@gmail.com', 'zxiwzpxfxzdwlgxq')\n",
    "    # pythonemailtestproject@gmail.com\n",
    "except Exception as e:\n",
    "    print('error',str(e))\n",
    "print('connected now!')\n",
    "\n",
    "to = [\"sbshaifali96@gmail.com\", \"bhardwajshaifali87@gmail.com\"]\n",
    "smtp.sendmail(from_addr=\"pythonemailtestproject@gmail.com\",to_addrs=to, msg=msg.as_string())\n",
    "smtp.quit()"
   ]
  },
  {
   "cell_type": "markdown",
   "id": "9adaabaf-5f63-47e7-9a9f-d51348aee09e",
   "metadata": {
    "tags": []
   },
   "source": [
    "# code2 - for image mail"
   ]
  },
  {
   "cell_type": "code",
   "execution_count": 43,
   "id": "b640bcb0-b39d-4181-af52-83aa6c5e4f61",
   "metadata": {},
   "outputs": [],
   "source": [
    "# image \n",
    "one_img=r'D:\\2_OwnWork_Project_extra_after_Aug2022\\Sep2022_Dec2023\\2_Github_Projects_Python_Ml\\02_MailCode_Python_Project\\Screenshot (10820).png'\n",
    "img_data = open(one_img, 'rb').read()\n",
    "msg.attach(MIMEImage(img_data,name=os.path.basename(one_img)))"
   ]
  },
  {
   "cell_type": "code",
   "execution_count": 44,
   "id": "1580e30e-7412-46c9-ac88-1841dfb953f8",
   "metadata": {},
   "outputs": [
    {
     "data": {
      "text/plain": [
       "<email.mime.multipart.MIMEMultipart at 0x15c21afb7c0>"
      ]
     },
     "execution_count": 44,
     "metadata": {},
     "output_type": "execute_result"
    }
   ],
   "source": [
    "msg"
   ]
  },
  {
   "cell_type": "code",
   "execution_count": 45,
   "id": "801efcbf-1904-4463-95cb-ca4281617d5e",
   "metadata": {},
   "outputs": [
    {
     "name": "stdout",
     "output_type": "stream",
     "text": [
      "connected now!\n"
     ]
    },
    {
     "data": {
      "text/plain": [
       "(221,\n",
       " b'2.0.0 closing connection e12-20020a17090a4a0c00b001fab208523esm946687pjh.3 - gsmtp')"
      ]
     },
     "execution_count": 45,
     "metadata": {},
     "output_type": "execute_result"
    }
   ],
   "source": [
    "#     send mail\n",
    "try: \n",
    "    smtp = smtplib.SMTP('smtp.gmail.com', 587)\n",
    "    smtp.ehlo()\n",
    "    smtp.starttls()\n",
    "    smtp.login('pythonemailtestproject@gmail.com', 'zxiwzpxfxzdwlgxq')\n",
    "    # pythonemailtestproject@gmail.com\n",
    "except Exception as e:\n",
    "    print('error',str(e))\n",
    "print('connected now!')\n",
    "to = [\"sbshaifali96@gmail.com\", \"bhardwajshaifali87@gmail.com\"]\n",
    "smtp.sendmail(from_addr=\"pythonemailtestproject@gmail.com\",to_addrs=to, msg=msg.as_string())\n",
    "smtp.quit()"
   ]
  },
  {
   "cell_type": "markdown",
   "id": "450212f0-7dfd-40d3-8bec-cb717052def4",
   "metadata": {},
   "source": [
    "# code3 - for multiple files mail"
   ]
  },
  {
   "cell_type": "code",
   "execution_count": 51,
   "id": "6b333337-d716-48c9-b45b-2b674e0df16f",
   "metadata": {},
   "outputs": [],
   "source": [
    "try:\n",
    "    one_attachment=r\"D:\\2_OwnWork_Project_extra_after_Aug2022\\Sep2022_Dec2023\\2_Github_Projects_Python_Ml\\02_MailCode_Python_Project\\Practical_Statistics_for_Data_Science__1663047225.pdf\"\n",
    "    with open(one_attachment, 'rb') as f:\n",
    "        file = MIMEApplication(\n",
    "            f.read(), name=os.path.basename(one_attachment)\n",
    "        )\n",
    "        file['Content-Disposition'] = f'attachment; \\\n",
    "        filename=\"{os.path.basename(one_attachment)}\"'\n",
    "        msg.attach(file)\n",
    "except Exception as e:\n",
    "    print('error- ',str(e))\n"
   ]
  },
  {
   "cell_type": "code",
   "execution_count": 52,
   "id": "e52cba02-1bf4-4289-8f7a-c26373e6bc0d",
   "metadata": {},
   "outputs": [
    {
     "name": "stdout",
     "output_type": "stream",
     "text": [
      "connected now!\n"
     ]
    },
    {
     "data": {
      "text/plain": [
       "(221,\n",
       " b'2.0.0 closing connection b8-20020a170902d50800b0016edd557412sm3300822plg.201 - gsmtp')"
      ]
     },
     "execution_count": 52,
     "metadata": {},
     "output_type": "execute_result"
    }
   ],
   "source": [
    "#     send mail\n",
    "try: \n",
    "    smtp = smtplib.SMTP('smtp.gmail.com', 587)\n",
    "    smtp.ehlo()\n",
    "    smtp.starttls()\n",
    "    smtp.login('pythonemailtestproject@gmail.com', 'zxiwzpxfxzdwlgxq')\n",
    "    # pythonemailtestproject@gmail.com\n",
    "except Exception as e:\n",
    "    print('error',str(e))\n",
    "print('connected now!')\n",
    "to = [\"sbshaifali96@gmail.com\", \"bhardwajshaifali87@gmail.com\"]\n",
    "smtp.sendmail(from_addr=\"pythonemailtestproject@gmail.com\",to_addrs=to, msg=msg.as_string())\n",
    "smtp.quit()"
   ]
  },
  {
   "cell_type": "code",
   "execution_count": null,
   "id": "3c04ce92-1c85-43a3-9da9-2ad6c558aa76",
   "metadata": {},
   "outputs": [],
   "source": []
  },
  {
   "cell_type": "code",
   "execution_count": null,
   "id": "a517d552-2292-4837-b1a6-6944d1698a4e",
   "metadata": {},
   "outputs": [],
   "source": []
  },
  {
   "cell_type": "code",
   "execution_count": 34,
   "id": "eb251c52-e41d-460e-9874-05fecf1c6060",
   "metadata": {},
   "outputs": [],
   "source": [
    "# import smtplib  \n",
    "\n",
    "# fromaddr = 'pythonemailtestproject@gmail.com'  \n",
    "# toaddrs  = 'bhardwajshaifali87@ymail.com'  \n",
    "# msg = \"I was bored!\"\n",
    "\n",
    "\n",
    "# # Credentials   \n",
    "\n",
    "# password = 'Python@22596'\n",
    "\n",
    "# # The actual mail send  \n",
    "# server = smtplib.SMTP('smtp.gmail.com:587')  \n",
    "# server.starttls()  \n",
    "# server.login(fromaddr,password)\n",
    "\n",
    "\n",
    "\n",
    "\n",
    "# server.sendmail(fromaddr, toaddrs, msg)\n",
    "\n",
    "\n",
    "# server.quit()\n",
    "\n",
    "# print('done')"
   ]
  },
  {
   "cell_type": "code",
   "execution_count": null,
   "id": "6a507397-48d7-4a8f-b7f1-5e3843fcad59",
   "metadata": {},
   "outputs": [],
   "source": []
  },
  {
   "cell_type": "code",
   "execution_count": null,
   "id": "8cfe13e7-9c98-4a02-9346-a86d39070d0f",
   "metadata": {},
   "outputs": [],
   "source": []
  },
  {
   "cell_type": "code",
   "execution_count": null,
   "id": "b3c49478-8cf2-4c4f-9b27-ab660dce9ca8",
   "metadata": {},
   "outputs": [],
   "source": []
  },
  {
   "cell_type": "code",
   "execution_count": null,
   "id": "fbd7a67b-567d-4a70-994e-ea62758ae02a",
   "metadata": {},
   "outputs": [],
   "source": []
  }
 ],
 "metadata": {
  "kernelspec": {
   "display_name": "Python 3",
   "language": "python",
   "name": "python3"
  },
  "language_info": {
   "codemirror_mode": {
    "name": "ipython",
    "version": 3
   },
   "file_extension": ".py",
   "mimetype": "text/x-python",
   "name": "python",
   "nbconvert_exporter": "python",
   "pygments_lexer": "ipython3",
   "version": "3.8.8"
  }
 },
 "nbformat": 4,
 "nbformat_minor": 5
}
